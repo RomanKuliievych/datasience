{
  "nbformat": 4,
  "nbformat_minor": 0,
  "metadata": {
    "colab": {
      "name": "Fashion_calssification_tf.ipynb",
      "provenance": [],
      "include_colab_link": true
    },
    "kernelspec": {
      "name": "python3",
      "display_name": "Python 3"
    },
    "language_info": {
      "name": "python"
    }
  },
  "cells": [
    {
      "cell_type": "markdown",
      "metadata": {
        "id": "view-in-github",
        "colab_type": "text"
      },
      "source": [
        "<a href=\"https://colab.research.google.com/github/RomanKuliievych/datasience/blob/main/fashion_classification_tf.ipynb\" target=\"_parent\"><img src=\"https://colab.research.google.com/assets/colab-badge.svg\" alt=\"Open In Colab\"/></a>"
      ]
    },
    {
      "cell_type": "code",
      "source": [
        "# %matplotlib inline"
      ],
      "metadata": {
        "id": "0hI3nJapVUPo"
      },
      "execution_count": null,
      "outputs": []
    },
    {
      "cell_type": "code",
      "execution_count": null,
      "metadata": {
        "id": "pLqz830zTkyz"
      },
      "outputs": [],
      "source": [
        "import tensorflow as tf\n",
        "import matplotlib.pyplot as plt\n",
        "import numpy as np\n"
      ]
    },
    {
      "cell_type": "code",
      "source": [
        "(x_train, y_train), (x_test, y_test) = tf.keras.datasets.fashion_mnist.load_data()"
      ],
      "metadata": {
        "id": "otyEAETtT5GZ"
      },
      "execution_count": null,
      "outputs": []
    },
    {
      "cell_type": "code",
      "source": [
        "plt.imshow(x_test[0])\n",
        "plt.show()"
      ],
      "metadata": {
        "colab": {
          "base_uri": "https://localhost:8080/",
          "height": 265
        },
        "id": "nbA7KHaLUjR4",
        "outputId": "2f8eab2e-4665-44b9-d081-196f8b9ee6f2"
      },
      "execution_count": null,
      "outputs": [
        {
          "output_type": "display_data",
          "data": {
            "text/plain": [
              "<Figure size 432x288 with 1 Axes>"
            ],
            "image/png": "[encoded data removed]"
          },
          "metadata": {
            "needs_background": "light"
          }
        }
      ]
    },
    {
      "cell_type": "code",
      "source": [
        "x_train, x_test = x_train/255, x_test/255\n"
      ],
      "metadata": {
        "id": "qh1R2TuuVy6F"
      },
      "execution_count": null,
      "outputs": []
    },
    {
      "cell_type": "code",
      "source": [
        "x_train[0][8:10]"
      ],
      "metadata": {
        "colab": {
          "base_uri": "https://localhost:8080/"
        },
        "id": "UhAQyCQ7ZMGO",
        "outputId": "f1b0de93-a412-4840-b9f0-56858d395e3d"
      },
      "execution_count": null,
      "outputs": [
        {
          "output_type": "execute_result",
          "data": {
            "text/plain": [
              "array([[0.        , 0.        , 0.        , 0.        , 0.        ,\n",
              "        0.        , 0.        , 0.        , 0.        , 0.00392157,\n",
              "        0.00392157, 0.00392157, 0.        , 0.78431373, 0.90980392,\n",
              "        0.90980392, 0.91372549, 0.89803922, 0.8745098 , 0.8745098 ,\n",
              "        0.84313725, 0.83529412, 0.64313725, 0.49803922, 0.48235294,\n",
              "        0.76862745, 0.89803922, 0.        ],\n",
              "       [0.        , 0.        , 0.        , 0.        , 0.        ,\n",
              "        0.        , 0.        , 0.        , 0.        , 0.        ,\n",
              "        0.        , 0.        , 0.        , 0.71764706, 0.88235294,\n",
              "        0.84705882, 0.8745098 , 0.89411765, 0.92156863, 0.89019608,\n",
              "        0.87843137, 0.87058824, 0.87843137, 0.86666667, 0.8745098 ,\n",
              "        0.96078431, 0.67843137, 0.        ]])"
            ]
          },
          "metadata": {},
          "execution_count": 13
        }
      ]
    },
    {
      "cell_type": "code",
      "source": [
        "model = tf.keras.Sequential()\n",
        "model.add(tf.keras.layers.Flatten())\n",
        "model.add(tf.keras.layers.Dense(16))\n",
        "model.add(tf.keras.layers.Dense(10))"
      ],
      "metadata": {
        "id": "_UfJgy5nWKLu"
      },
      "execution_count": null,
      "outputs": []
    },
    {
      "cell_type": "code",
      "source": [
        "first_img = x_test[0].reshape((1, 28, 28))\n",
        "model.predict(first_img)"
      ],
      "metadata": {
        "colab": {
          "base_uri": "https://localhost:8080/"
        },
        "id": "gabQRtF8W1bR",
        "outputId": "03c0d493-edda-4cce-fce1-22d8d97c2dc6"
      },
      "execution_count": null,
      "outputs": [
        {
          "output_type": "execute_result",
          "data": {
            "text/plain": [
              "array([[ -6.4145827, -14.443468 ,  -4.193734 ,  -4.8912153,  -4.87914  ,\n",
              "          5.9403043,  -2.3993673,   5.0922213,   1.5737727,   7.8004975]],\n",
              "      dtype=float32)"
            ]
          },
          "metadata": {},
          "execution_count": 38
        }
      ]
    },
    {
      "cell_type": "code",
      "source": [
        "model.compile(\n",
        "    optimizer=tf.keras.optimizers.Adam(),\n",
        "    loss=tf.keras.losses.SparseCategoricalCrossentropy(from_logits=True),\n",
        "    metrics=['accuracy']\n",
        "    )\n",
        "\n",
        "model.summary()"
      ],
      "metadata": {
        "colab": {
          "base_uri": "https://localhost:8080/"
        },
        "id": "10QZtIbRXqw7",
        "outputId": "a1e38d5b-17c8-4472-e43d-cf8046bb17af"
      },
      "execution_count": null,
      "outputs": [
        {
          "output_type": "stream",
          "name": "stdout",
          "text": [
            "Model: \"sequential_1\"\n",
            "_________________________________________________________________\n",
            " Layer (type)                Output Shape              Param #   \n",
            "=================================================================\n",
            " flatten_1 (Flatten)         (None, 784)               0         \n",
            "                                                                 \n",
            " dense_2 (Dense)             (None, 16)                12560     \n",
            "                                                                 \n",
            " dense_3 (Dense)             (None, 10)                170       \n",
            "                                                                 \n",
            "=================================================================\n",
            "Total params: 12,730\n",
            "Trainable params: 12,730\n",
            "Non-trainable params: 0\n",
            "_________________________________________________________________\n"
          ]
        }
      ]
    },
    {
      "cell_type": "code",
      "source": [
        "history = model.fit(x_train, y_train, epochs=10, validation_split=0.2)"
      ],
      "metadata": {
        "colab": {
          "base_uri": "https://localhost:8080/"
        },
        "id": "CyKt9A-YX02x",
        "outputId": "131a8cbe-1204-4f4c-9636-c680ca9c3d56"
      },
      "execution_count": null,
      "outputs": [
        {
          "output_type": "stream",
          "name": "stdout",
          "text": [
            "Epoch 1/10\n",
            "1500/1500 [==============================] - 3s 2ms/step - loss: 0.3816 - accuracy: 0.8655 - val_loss: 0.3802 - val_accuracy: 0.8647\n",
            "Epoch 2/10\n",
            "1500/1500 [==============================] - 3s 2ms/step - loss: 0.3787 - accuracy: 0.8665 - val_loss: 0.3828 - val_accuracy: 0.8644\n",
            "Epoch 3/10\n",
            "1500/1500 [==============================] - 3s 2ms/step - loss: 0.3770 - accuracy: 0.8664 - val_loss: 0.3866 - val_accuracy: 0.8611\n",
            "Epoch 4/10\n",
            "1500/1500 [==============================] - 3s 2ms/step - loss: 0.3743 - accuracy: 0.8674 - val_loss: 0.3861 - val_accuracy: 0.8658\n",
            "Epoch 5/10\n",
            "1500/1500 [==============================] - 3s 2ms/step - loss: 0.3740 - accuracy: 0.8691 - val_loss: 0.3872 - val_accuracy: 0.8652\n",
            "Epoch 6/10\n",
            "1500/1500 [==============================] - 3s 2ms/step - loss: 0.3730 - accuracy: 0.8683 - val_loss: 0.3943 - val_accuracy: 0.8622\n",
            "Epoch 7/10\n",
            "1500/1500 [==============================] - 3s 2ms/step - loss: 0.3716 - accuracy: 0.8699 - val_loss: 0.4006 - val_accuracy: 0.8569\n",
            "Epoch 8/10\n",
            "1500/1500 [==============================] - 3s 2ms/step - loss: 0.3697 - accuracy: 0.8694 - val_loss: 0.4219 - val_accuracy: 0.8510\n",
            "Epoch 9/10\n",
            "1500/1500 [==============================] - 3s 2ms/step - loss: 0.3694 - accuracy: 0.8680 - val_loss: 0.4089 - val_accuracy: 0.8539\n",
            "Epoch 10/10\n",
            "1500/1500 [==============================] - 3s 2ms/step - loss: 0.3684 - accuracy: 0.8701 - val_loss: 0.3946 - val_accuracy: 0.8608\n"
          ]
        }
      ]
    },
    {
      "cell_type": "code",
      "source": [
        "plt.plot(history.epoch, history.history['accuracy'], 'b', history.epoch, history.history['val_accuracy'], 'r')"
      ],
      "metadata": {
        "colab": {
          "base_uri": "https://localhost:8080/",
          "height": 300
        },
        "id": "nipfAk-ta2Wz",
        "outputId": "8cf7617a-8099-4ff0-d07e-c56acdaf2c46"
      },
      "execution_count": null,
      "outputs": [
        {
          "output_type": "execute_result",
          "data": {
            "text/plain": [
              "[<matplotlib.lines.Line2D at 0x7f613a7652d0>,\n",
              " <matplotlib.lines.Line2D at 0x7f613a7654d0>]"
            ]
          },
          "metadata": {},
          "execution_count": 35
        },
        {
          "output_type": "display_data",
          "data": {
            "text/plain": [
              "<Figure size 432x288 with 1 Axes>"
            ],
            "image/png": "[encoded data removed]"
          },
          "metadata": {
            "needs_background": "light"
          }
        }
      ]
    },
    {
      "cell_type": "code",
      "source": [
        "model.evaluate(x_test, y_test)"
      ],
      "metadata": {
        "colab": {
          "base_uri": "https://localhost:8080/"
        },
        "id": "CDZxn5CSYHKK",
        "outputId": "4a809461-c9f1-42db-c49a-4c5f2c3ff43b"
      },
      "execution_count": null,
      "outputs": [
        {
          "output_type": "stream",
          "name": "stdout",
          "text": [
            "313/313 [==============================] - 1s 2ms/step - loss: 0.4523 - accuracy: 0.8420\n"
          ]
        },
        {
          "output_type": "execute_result",
          "data": {
            "text/plain": [
              "[0.4522552788257599, 0.8420000076293945]"
            ]
          },
          "metadata": {},
          "execution_count": 36
        }
      ]
    },
    {
      "cell_type": "code",
      "source": [
        "model.save('my_model')"
      ],
      "metadata": {
        "colab": {
          "base_uri": "https://localhost:8080/"
        },
        "id": "Sa-VkNCNb5ds",
        "outputId": "8a1b496a-58c0-4cee-a9b7-d9b6d8b43255"
      },
      "execution_count": null,
      "outputs": [
        {
          "output_type": "stream",
          "name": "stdout",
          "text": [
            "INFO:tensorflow:Assets written to: my_model/assets\n"
          ]
        }
      ]
    },
    {
      "cell_type": "markdown",
      "source": [
        "# second round"
      ],
      "metadata": {
        "id": "z85SUE8Pi6fC"
      }
    },
    {
      "cell_type": "code",
      "source": [
        "x = [300, 400, 500, 2000, 10]\n",
        "\n",
        "plt.hist(x)\n",
        "\n",
        "plt.show()"
      ],
      "metadata": {
        "colab": {
          "base_uri": "https://localhost:8080/",
          "height": 265
        },
        "id": "UUUmhb6Fk0x8",
        "outputId": "08890d46-3501-42e4-d415-4916abf0e94b"
      },
      "execution_count": null,
      "outputs": [
        {
          "output_type": "display_data",
          "data": {
            "text/plain": [
              "<Figure size 432x288 with 1 Axes>"
            ],
            "image/png": "[encoded data removed]"
          },
          "metadata": {
            "needs_background": "light"
          }
        }
      ]
    },
    {
      "cell_type": "code",
      "source": [
        "from tensorflow import keras\n",
        "from tensorflow.keras import layers\n",
        "import pandas as pd\n",
        "\n",
        "\n",
        "np.set_printoptions(suppress=True)"
      ],
      "metadata": {
        "id": "8KACIKVvjGDZ"
      },
      "execution_count": null,
      "outputs": []
    },
    {
      "cell_type": "code",
      "source": [
        "(x_train, y_train), (x_test, y_test) = keras.datasets.fashion_mnist.load_data()\n",
        "\n",
        "x_train = np.expand_dims(x_train, axis=-1)\n",
        "x_test = np.expand_dims(x_test, axis=-1)"
      ],
      "metadata": {
        "id": "AAzG3dADjAjR"
      },
      "execution_count": null,
      "outputs": []
    },
    {
      "cell_type": "code",
      "source": [
        "df = pd.DataFrame(y_train)\n",
        "df.hist()"
      ],
      "metadata": {
        "colab": {
          "base_uri": "https://localhost:8080/",
          "height": 316
        },
        "id": "KZc7sS4MkSYB",
        "outputId": "9d71e134-58dd-4d5e-9ac5-38f2576a1adf"
      },
      "execution_count": null,
      "outputs": [
        {
          "output_type": "execute_result",
          "data": {
            "text/plain": [
              "array([[<matplotlib.axes._subplots.AxesSubplot object at 0x7f6138b4b910>]],\n",
              "      dtype=object)"
            ]
          },
          "metadata": {},
          "execution_count": 52
        },
        {
          "output_type": "display_data",
          "data": {
            "text/plain": [
              "<Figure size 432x288 with 1 Axes>"
            ],
            "image/png": "[encoded data removed]"
          },
          "metadata": {
            "needs_background": "light"
          }
        }
      ]
    },
    {
      "cell_type": "code",
      "source": [
        "plt.hist(y_train, bins=10)\n",
        "plt.hist(y_test)"
      ],
      "metadata": {
        "colab": {
          "base_uri": "https://localhost:8080/",
          "height": 334
        },
        "id": "aE9Liwj7jEEQ",
        "outputId": "1a5ef333-edc9-4dab-c1d1-4f4ba9c50031"
      },
      "execution_count": null,
      "outputs": [
        {
          "output_type": "execute_result",
          "data": {
            "text/plain": [
              "(array([1000., 1000., 1000., 1000., 1000., 1000., 1000., 1000., 1000.,\n",
              "        1000.]),\n",
              " array([0. , 0.9, 1.8, 2.7, 3.6, 4.5, 5.4, 6.3, 7.2, 8.1, 9. ]),\n",
              " <a list of 10 Patch objects>)"
            ]
          },
          "metadata": {},
          "execution_count": 47
        },
        {
          "output_type": "display_data",
          "data": {
            "text/plain": [
              "<Figure size 432x288 with 1 Axes>"
            ],
            "image/png": "[encoded data removed]"
          },
          "metadata": {
            "needs_background": "light"
          }
        }
      ]
    },
    {
      "cell_type": "code",
      "source": [
        "norm_layer = layers.Normalization(axis=None)\n",
        "norm_layer.adapt(x_test)"
      ],
      "metadata": {
        "id": "uKu4Bk1LmxqO"
      },
      "execution_count": null,
      "outputs": []
    },
    {
      "cell_type": "code",
      "source": [
        "plt.imshow(norm_layer(x_test[0])[0])"
      ],
      "metadata": {
        "colab": {
          "base_uri": "https://localhost:8080/",
          "height": 282
        },
        "id": "yj6QY8COnAM6",
        "outputId": "6a04372f-5dc9-4802-919b-f5acfda46421"
      },
      "execution_count": null,
      "outputs": [
        {
          "output_type": "execute_result",
          "data": {
            "text/plain": [
              "<matplotlib.image.AxesImage at 0x7f613800e650>"
            ]
          },
          "metadata": {},
          "execution_count": 67
        },
        {
          "output_type": "display_data",
          "data": {
            "text/plain": [
              "<Figure size 432x288 with 1 Axes>"
            ],
            "image/png": "[encoded data removed]"
          },
          "metadata": {
            "needs_background": "light"
          }
        }
      ]
    },
    {
      "cell_type": "code",
      "source": [
        "model = keras.Sequential()\n",
        "model.add(layers.Conv2D(1, 3, activation='relu', input_shape=(28, 28, 1)))\n",
        "model.add(layers.MaxPool2D())\n",
        "model.add(layers.Flatten())\n",
        "model.add(layers.Dense(10, activation='softmax'))\n",
        "\n",
        "model.summary()"
      ],
      "metadata": {
        "colab": {
          "base_uri": "https://localhost:8080/"
        },
        "id": "nW_GjFvTtdDf",
        "outputId": "d7690c45-011f-41c5-ba49-d822b774fe31"
      },
      "execution_count": null,
      "outputs": [
        {
          "output_type": "stream",
          "name": "stdout",
          "text": [
            "Model: \"sequential_12\"\n",
            "_________________________________________________________________\n",
            " Layer (type)                Output Shape              Param #   \n",
            "=================================================================\n",
            " conv2d_23 (Conv2D)          (None, 26, 26, 1)         10        \n",
            "                                                                 \n",
            " max_pooling2d_12 (MaxPoolin  (None, 13, 13, 1)        0         \n",
            " g2D)                                                            \n",
            "                                                                 \n",
            " flatten_17 (Flatten)        (None, 169)               0         \n",
            "                                                                 \n",
            " dense_15 (Dense)            (None, 10)                1700      \n",
            "                                                                 \n",
            "=================================================================\n",
            "Total params: 1,710\n",
            "Trainable params: 1,710\n",
            "Non-trainable params: 0\n",
            "_________________________________________________________________\n"
          ]
        }
      ]
    },
    {
      "cell_type": "code",
      "source": [
        "model.compile(\n",
        "    optimizer=tf.keras.optimizers.Adam(),\n",
        "    loss=tf.keras.losses.SparseCategoricalCrossentropy(),\n",
        "    metrics=['accuracy']\n",
        "    )"
      ],
      "metadata": {
        "id": "ME94uK-5wM55"
      },
      "execution_count": null,
      "outputs": []
    },
    {
      "cell_type": "code",
      "source": [
        "history = model.fit(x_train, y_train, epochs=1, validation_split=0.2)"
      ],
      "metadata": {
        "colab": {
          "base_uri": "https://localhost:8080/"
        },
        "id": "MMFYqnpOqcVG",
        "outputId": "284924a3-cd2f-48df-9c22-38ebf3f36349"
      },
      "execution_count": null,
      "outputs": [
        {
          "output_type": "stream",
          "name": "stdout",
          "text": [
            "1500/1500 [==============================] - 14s 9ms/step - loss: 0.5408 - accuracy: 0.8098 - val_loss: 0.5093 - val_accuracy: 0.8209\n"
          ]
        }
      ]
    },
    {
      "cell_type": "code",
      "source": [
        "model.evaluate(x_test, y_test)"
      ],
      "metadata": {
        "colab": {
          "base_uri": "https://localhost:8080/"
        },
        "id": "tTqNhq_9xhLY",
        "outputId": "d81a2e53-b83c-4c2c-b61e-d953d119205d"
      },
      "execution_count": null,
      "outputs": [
        {
          "output_type": "stream",
          "name": "stdout",
          "text": [
            "313/313 [==============================] - 2s 7ms/step - loss: 0.5386 - accuracy: 0.8062\n"
          ]
        },
        {
          "output_type": "execute_result",
          "data": {
            "text/plain": [
              "[0.5385697484016418, 0.8062000274658203]"
            ]
          },
          "metadata": {},
          "execution_count": 108
        }
      ]
    },
    {
      "cell_type": "code",
      "source": [
        "x_test[0].shape"
      ],
      "metadata": {
        "colab": {
          "base_uri": "https://localhost:8080/"
        },
        "id": "iDyCHbeeygjV",
        "outputId": "62a44106-af89-41af-86ae-a193d7b0eabc"
      },
      "execution_count": null,
      "outputs": [
        {
          "output_type": "execute_result",
          "data": {
            "text/plain": [
              "(28, 28, 1)"
            ]
          },
          "metadata": {},
          "execution_count": 112
        }
      ]
    },
    {
      "cell_type": "code",
      "source": [
        "y_predicted = model.predict(x_test)"
      ],
      "metadata": {
        "id": "QxioXkY6yMw5"
      },
      "execution_count": null,
      "outputs": []
    },
    {
      "cell_type": "code",
      "source": [
        "correct_pred = 0\n",
        "incorrect_pred = 0\n",
        "for y, y_pred in zip(y_test, y_predicted):\n",
        "    pred_number = np.argmax(y_pred)\n",
        "    if pred_number == y:\n",
        "        correct_pred+=1\n",
        "    else:\n",
        "        incorrect_pred+=1\n",
        "\n",
        "accuracy = correct_pred / (correct_pred + incorrect_pred)"
      ],
      "metadata": {
        "id": "fjqapBdAzOc8"
      },
      "execution_count": null,
      "outputs": []
    },
    {
      "cell_type": "markdown",
      "source": [
        "# Third round\n",
        "> 90% accuracy"
      ],
      "metadata": {
        "id": "2hC4LbEH04rl"
      }
    },
    {
      "cell_type": "code",
      "source": [
        "import tensorflow as tf\n",
        "from tensorflow import keras\n",
        "from keras import layers\n",
        "\n",
        "import matplotlib.pyplot as plt\n",
        "import numpy as np"
      ],
      "metadata": {
        "id": "VsOO9e113Lka"
      },
      "execution_count": null,
      "outputs": []
    },
    {
      "cell_type": "code",
      "source": [
        "(x_train, y_train), (x_test, y_test) = keras.datasets.fashion_mnist.load_data()\n",
        "\n",
        "x_train = np.expand_dims(x_train, axis=-1)\n",
        "x_test = np.expand_dims(x_test, axis=-1)"
      ],
      "metadata": {
        "id": "jkO3n8DX6Viy"
      },
      "execution_count": null,
      "outputs": []
    },
    {
      "cell_type": "code",
      "source": [
        "model_3 = keras.Sequential()\n",
        "model_3.add(layers.Rescaling(scale=1/255))\n",
        "model_3.add(layers.Conv2D(4, 3, activation='relu', input_shape=(28, 28, 1)))\n",
        "model_3.add(layers.MaxPooling2D())\n",
        "model_3.add(layers.Conv2D(16, 3, activation='relu'))\n",
        "model_3.add(layers.MaxPooling2D())\n",
        "model_3.add(layers.Flatten())\n",
        "model_3.add(layers.Dropout(0.2))\n",
        "model_3.add(layers.Dense(64, activation='relu'))\n",
        "model_3.add(layers.Dense(10, activation='softmax'))"
      ],
      "metadata": {
        "id": "ypzEvHUI07Dq"
      },
      "execution_count": null,
      "outputs": []
    },
    {
      "cell_type": "code",
      "source": [
        "model_3.predict(x_test[:2])"
      ],
      "metadata": {
        "colab": {
          "base_uri": "https://localhost:8080/"
        },
        "id": "nwaJdzfo4Kan",
        "outputId": "cc888ecb-6e99-44de-fad1-d51995092664"
      },
      "execution_count": null,
      "outputs": [
        {
          "output_type": "execute_result",
          "data": {
            "text/plain": [
              "array([[0.08627516, 0.09566721, 0.10656734, 0.10184603, 0.09144346,\n",
              "        0.11567432, 0.10618577, 0.11051411, 0.07269781, 0.11312877],\n",
              "       [0.0763955 , 0.10355595, 0.11093804, 0.11416093, 0.07185068,\n",
              "        0.12863842, 0.1214961 , 0.09460736, 0.06015211, 0.11820482]],\n",
              "      dtype=float32)"
            ]
          },
          "metadata": {},
          "execution_count": 67
        }
      ]
    },
    {
      "cell_type": "code",
      "source": [
        "model_3.compile(\n",
        "    optimizer=tf.keras.optimizers.Adam(),\n",
        "    loss=tf.keras.losses.SparseCategoricalCrossentropy(),\n",
        "    metrics=['accuracy']    \n",
        "    )"
      ],
      "metadata": {
        "id": "OIwLxUOP-txY"
      },
      "execution_count": null,
      "outputs": []
    },
    {
      "cell_type": "code",
      "source": [
        "history = model_3.fit(\n",
        "    x_train, y_train, epochs=10, \n",
        "    validation_split=0.2, \n",
        "    callbacks=keras.callbacks.EarlyStopping(patience=5)\n",
        "    )"
      ],
      "metadata": {
        "colab": {
          "base_uri": "https://localhost:8080/"
        },
        "id": "QM2pLif9--o_",
        "outputId": "07549fd0-0299-49fb-831e-e7131391542b"
      },
      "execution_count": null,
      "outputs": [
        {
          "output_type": "stream",
          "name": "stdout",
          "text": [
            "Epoch 1/10\n",
            "1500/1500 [==============================] - 57s 38ms/step - loss: 0.5765 - accuracy: 0.7856 - val_loss: 0.4516 - val_accuracy: 0.8352\n",
            "Epoch 2/10\n",
            "1500/1500 [==============================] - 67s 45ms/step - loss: 0.4527 - accuracy: 0.8326 - val_loss: 0.4054 - val_accuracy: 0.8531\n",
            "Epoch 3/10\n",
            "1500/1500 [==============================] - 50s 33ms/step - loss: 0.4082 - accuracy: 0.8501 - val_loss: 0.3600 - val_accuracy: 0.8695\n",
            "Epoch 4/10\n",
            "1500/1500 [==============================] - 49s 33ms/step - loss: 0.3776 - accuracy: 0.8610 - val_loss: 0.3455 - val_accuracy: 0.8752\n",
            "Epoch 5/10\n",
            "1500/1500 [==============================] - 60s 40ms/step - loss: 0.3569 - accuracy: 0.8687 - val_loss: 0.3375 - val_accuracy: 0.8759\n",
            "Epoch 6/10\n",
            "1500/1500 [==============================] - 50s 33ms/step - loss: 0.3406 - accuracy: 0.8742 - val_loss: 0.3215 - val_accuracy: 0.8806\n",
            "Epoch 7/10\n",
            "1500/1500 [==============================] - 55s 37ms/step - loss: 0.3230 - accuracy: 0.8805 - val_loss: 0.3188 - val_accuracy: 0.8838\n",
            "Epoch 8/10\n",
            "1500/1500 [==============================] - 39s 26ms/step - loss: 0.3120 - accuracy: 0.8838 - val_loss: 0.2993 - val_accuracy: 0.8888\n",
            "Epoch 9/10\n",
            "1500/1500 [==============================] - 58s 39ms/step - loss: 0.3022 - accuracy: 0.8870 - val_loss: 0.3064 - val_accuracy: 0.8875\n",
            "Epoch 10/10\n",
            "1500/1500 [==============================] - 65s 44ms/step - loss: 0.2944 - accuracy: 0.8892 - val_loss: 0.3058 - val_accuracy: 0.8852\n"
          ]
        }
      ]
    },
    {
      "cell_type": "code",
      "source": [
        "plt.plot(history.history['accuracy'])\n",
        "plt.plot(history.history['val_accuracy'])\n",
        "plt.title('model accuracy')\n",
        "plt.ylabel('accuracy')\n",
        "plt.xlabel('epoch')\n",
        "plt.legend(['train', 'test'], loc='upper left')\n",
        "plt.show()"
      ],
      "metadata": {
        "colab": {
          "base_uri": "https://localhost:8080/",
          "height": 295
        },
        "id": "yDUGqbOpDPe8",
        "outputId": "f2b6ea68-3d34-4852-f48b-e6c40bd5a8a8"
      },
      "execution_count": null,
      "outputs": [
        {
          "output_type": "display_data",
          "data": {
            "text/plain": [
              "<Figure size 432x288 with 1 Axes>"
            ],
            "image/png": "[encoded data removed]"
          },
          "metadata": {
            "needs_background": "light"
          }
        }
      ]
    },
    {
      "cell_type": "code",
      "source": [
        "def build_model():\n",
        "    model = keras.Sequential(\n",
        "        [\n",
        "            # first convolution layer\n",
        "            keras.layers.Conv2D(32, (3, 3), activation=\"relu\",\n",
        "                                input_shape=(28, 28, 1)),\n",
        "            keras.layers.MaxPooling2D((2, 2), strides=2),\n",
        " \n",
        "            # second convolution layer\n",
        "            keras.layers.Conv2D(64, (3, 3), activation=\"relu\"),\n",
        "            keras.layers.MaxPooling2D((2, 2), strides=2),\n",
        " \n",
        "            # fully connected classification\n",
        "            # single vector\n",
        "            keras.layers.Flatten(),\n",
        "         \n",
        "            keras.layers.Dropout(0.2),\n",
        "           \n",
        "            # hidden layer and output layer\n",
        "            keras.layers.Dense(1024, activation=\"relu\"),\n",
        "            keras.layers.Dense(10, activation=\"softmax\")\n",
        "        ])\n",
        "    \n",
        "    model.compile(\n",
        "        optimizer=tf.keras.optimizers.Adam(),\n",
        "        loss=tf.keras.losses.SparseCategoricalCrossentropy(),\n",
        "        metrics=['accuracy']    \n",
        "        )\n",
        "\n",
        "    return model"
      ],
      "metadata": {
        "id": "MS1cp24OD8hz"
      },
      "execution_count": null,
      "outputs": []
    },
    {
      "cell_type": "code",
      "source": [
        "model = build_model()\n",
        "history = model.fit(\n",
        "    x_train, y_train, epochs=10, \n",
        "    validation_split=0.2, \n",
        "    callbacks=keras.callbacks.EarlyStopping(patience=5)\n",
        "    )"
      ],
      "metadata": {
        "colab": {
          "base_uri": "https://localhost:8080/"
        },
        "id": "PfeLLNNyEGvq",
        "outputId": "21c720af-d661-4916-daad-913962b98d0a"
      },
      "execution_count": null,
      "outputs": [
        {
          "output_type": "stream",
          "name": "stdout",
          "text": [
            "Epoch 1/10\n",
            "1500/1500 [==============================] - 188s 124ms/step - loss: 0.9419 - accuracy: 0.7845 - val_loss: 0.4307 - val_accuracy: 0.8348\n",
            "Epoch 2/10\n",
            "1500/1500 [==============================] - 171s 114ms/step - loss: 0.4171 - accuracy: 0.8452 - val_loss: 0.4185 - val_accuracy: 0.8409\n",
            "Epoch 3/10\n",
            "1500/1500 [==============================] - 190s 126ms/step - loss: 0.3600 - accuracy: 0.8644 - val_loss: 0.3279 - val_accuracy: 0.8778\n",
            "Epoch 4/10\n",
            "1500/1500 [==============================] - 168s 112ms/step - loss: 0.3297 - accuracy: 0.8756 - val_loss: 0.3197 - val_accuracy: 0.8827\n",
            "Epoch 5/10\n",
            "1500/1500 [==============================] - 172s 115ms/step - loss: 0.3030 - accuracy: 0.8849 - val_loss: 0.3248 - val_accuracy: 0.8841\n",
            "Epoch 6/10\n",
            "1500/1500 [==============================] - 175s 117ms/step - loss: 0.2773 - accuracy: 0.8966 - val_loss: 0.3197 - val_accuracy: 0.8851\n",
            "Epoch 7/10\n",
            "1500/1500 [==============================] - 175s 117ms/step - loss: 0.2604 - accuracy: 0.9022 - val_loss: 0.3146 - val_accuracy: 0.8857\n",
            "Epoch 8/10\n",
            "1500/1500 [==============================] - 181s 120ms/step - loss: 0.2403 - accuracy: 0.9088 - val_loss: 0.3140 - val_accuracy: 0.8931\n",
            "Epoch 9/10\n",
            "1500/1500 [==============================] - 175s 117ms/step - loss: 0.2231 - accuracy: 0.9160 - val_loss: 0.3243 - val_accuracy: 0.8931\n",
            "Epoch 10/10\n",
            "1500/1500 [==============================] - 178s 118ms/step - loss: 0.2108 - accuracy: 0.9224 - val_loss: 0.3534 - val_accuracy: 0.8882\n"
          ]
        }
      ]
    },
    {
      "cell_type": "code",
      "source": [
        "model.summary()"
      ],
      "metadata": {
        "colab": {
          "base_uri": "https://localhost:8080/"
        },
        "id": "vsXcy2qiFMSH",
        "outputId": "f37cfc2f-423e-45d4-dfa7-f965eb1adcf4"
      },
      "execution_count": null,
      "outputs": [
        {
          "output_type": "stream",
          "name": "stdout",
          "text": [
            "Model: \"sequential_12\"\n",
            "_________________________________________________________________\n",
            " Layer (type)                Output Shape              Param #   \n",
            "=================================================================\n",
            " conv2d_71 (Conv2D)          (None, 26, 26, 32)        320       \n",
            "                                                                 \n",
            " max_pooling2d_59 (MaxPoolin  (None, 13, 13, 32)       0         \n",
            " g2D)                                                            \n",
            "                                                                 \n",
            " conv2d_72 (Conv2D)          (None, 11, 11, 64)        18496     \n",
            "                                                                 \n",
            " max_pooling2d_60 (MaxPoolin  (None, 5, 5, 64)         0         \n",
            " g2D)                                                            \n",
            "                                                                 \n",
            " flatten_22 (Flatten)        (None, 1600)              0         \n",
            "                                                                 \n",
            " dropout_1 (Dropout)         (None, 1600)              0         \n",
            "                                                                 \n",
            " dense_44 (Dense)            (None, 1024)              1639424   \n",
            "                                                                 \n",
            " dense_45 (Dense)            (None, 10)                10250     \n",
            "                                                                 \n",
            "=================================================================\n",
            "Total params: 1,668,490\n",
            "Trainable params: 1,668,490\n",
            "Non-trainable params: 0\n",
            "_________________________________________________________________\n"
          ]
        }
      ]
    },
    {
      "cell_type": "code",
      "source": [
        "model.evaluate(x_test, y_test)"
      ],
      "metadata": {
        "colab": {
          "base_uri": "https://localhost:8080/"
        },
        "id": "kiVGHHLiMhy7",
        "outputId": "35fff948-b3e4-4b8b-feeb-27c2cbd59bbc"
      },
      "execution_count": null,
      "outputs": [
        {
          "output_type": "stream",
          "name": "stdout",
          "text": [
            "313/313 [==============================] - 12s 36ms/step - loss: 0.3649 - accuracy: 0.8879\n"
          ]
        },
        {
          "output_type": "execute_result",
          "data": {
            "text/plain": [
              "[0.36493757367134094, 0.8878999948501587]"
            ]
          },
          "metadata": {},
          "execution_count": 85
        }
      ]
    },
    {
      "cell_type": "code",
      "source": [
        "plt.plot(history.history['accuracy'])\n",
        "plt.plot(history.history['val_accuracy'])\n",
        "plt.grid()\n",
        "plt.title('model accuracy')\n",
        "plt.ylabel('accuracy')\n",
        "plt.xlabel('epoch')\n",
        "plt.legend(['train', 'test'], loc='upper left')\n",
        "plt.show()"
      ],
      "metadata": {
        "colab": {
          "base_uri": "https://localhost:8080/",
          "height": 295
        },
        "id": "Nw3CbHbITyrq",
        "outputId": "0fa49e88-9831-4c8c-97b4-40f643c4d401"
      },
      "execution_count": null,
      "outputs": [
        {
          "output_type": "display_data",
          "data": {
            "text/plain": [
              "<Figure size 432x288 with 1 Axes>"
            ],
            "image/png": "[encoded data removed]"
          },
          "metadata": {
            "needs_background": "light"
          }
        }
      ]
    }
  ]
}